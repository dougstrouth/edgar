{
 "cells": [
  {
   "cell_type": "code",
   "execution_count": 1,
   "metadata": {},
   "outputs": [
    {
     "name": "stderr",
     "output_type": "stream",
     "text": [
      "2025-04-19 12:33:40,653 - INFO - [connect_db] Successfully connected to database: /Users/dougstrouth/Documents/datasets/edgar/edgar_metadata.duckdb\n",
      "2025-04-19 12:33:40,668 - INFO - [get_company_cik] Found CIK 0000320193 for ticker 'AAPL'\n",
      "2025-04-19 12:33:40,668 - INFO - [get_cash_flow_data] Querying cash flow data for CIK 0000320193, Tags: ['NetCashProvidedByUsedInOperatingActivities', 'NetCashProvidedByUsedInInvestingActivities', 'NetCashProvidedByUsedInFinancingActivities', 'CashAndCashEquivalentsPeriodIncreaseDecrease'], Forms: ['10-K', '10-Q']\n",
      "2025-04-19 12:33:40,689 - INFO - [get_cash_flow_data] Retrieved 257 cash flow fact records.\n"
     ]
    },
    {
     "name": "stdout",
     "output_type": "stream",
     "text": [
      "Raw Data Sample (first 5 rows):\n",
      "|        cik | form   | filed_date          | period_end_date     | fp   | tag_name                                     |   value_numeric | unit   |\n",
      "|-----------:|:-------|:--------------------|:--------------------|:-----|:---------------------------------------------|----------------:|:-------|\n",
      "| 0000320193 | 10-K   | 2014-10-27 00:00:00 | 2012-09-29 00:00:00 | FY   | CashAndCashEquivalentsPeriodIncreaseDecrease |       9.31e+08  | USD    |\n",
      "| 0000320193 | 10-K   | 2014-10-27 00:00:00 | 2013-09-28 00:00:00 | FY   | CashAndCashEquivalentsPeriodIncreaseDecrease |       3.513e+09 | USD    |\n",
      "| 0000320193 | 10-K   | 2015-10-28 00:00:00 | 2013-09-28 00:00:00 | FY   | CashAndCashEquivalentsPeriodIncreaseDecrease |       3.513e+09 | USD    |\n",
      "| 0000320193 | 10-Q   | 2015-01-28 00:00:00 | 2013-12-28 00:00:00 | Q1   | CashAndCashEquivalentsPeriodIncreaseDecrease |      -1.82e+08  | USD    |\n",
      "| 0000320193 | 10-Q   | 2015-04-28 00:00:00 | 2014-03-29 00:00:00 | Q2   | CashAndCashEquivalentsPeriodIncreaseDecrease |       4.69e+09  | USD    |\n",
      "\n",
      "Cleaned Data Sample (first 5 rows):\n",
      "|        cik | form   | filed_date          | period_end_date     | fp   | tag_name                                     |   value_numeric | unit   |\n",
      "|-----------:|:-------|:--------------------|:--------------------|:-----|:---------------------------------------------|----------------:|:-------|\n",
      "| 0000320193 | 10-K   | 2014-10-27 00:00:00 | 2012-09-29 00:00:00 | FY   | CashAndCashEquivalentsPeriodIncreaseDecrease |       9.31e+08  | USD    |\n",
      "| 0000320193 | 10-K   | 2015-10-28 00:00:00 | 2013-09-28 00:00:00 | FY   | CashAndCashEquivalentsPeriodIncreaseDecrease |       3.513e+09 | USD    |\n",
      "| 0000320193 | 10-Q   | 2015-01-28 00:00:00 | 2013-12-28 00:00:00 | Q1   | CashAndCashEquivalentsPeriodIncreaseDecrease |      -1.82e+08  | USD    |\n",
      "| 0000320193 | 10-Q   | 2015-04-28 00:00:00 | 2014-03-29 00:00:00 | Q2   | CashAndCashEquivalentsPeriodIncreaseDecrease |       4.69e+09  | USD    |\n",
      "| 0000320193 | 10-Q   | 2015-07-22 00:00:00 | 2014-06-28 00:00:00 | Q3   | CashAndCashEquivalentsPeriodIncreaseDecrease |      -1.282e+09 | USD    |\n",
      "\n",
      "Found 37 annual records and 97 quarterly records.\n"
     ]
    },
    {
     "data": {
      "application/vnd.plotly.v1+json": {
       "config": {
        "plotlyServerURL": "https://plot.ly"
       },
       "data": [
        {
         "hovertemplate": "Cash Flow Category=CashAndCashEquivalentsPeriodIncreaseDecrease<br>Period End Date=%{x}<br>Amount (USD)=%{y}<extra></extra>",
         "legendgroup": "CashAndCashEquivalentsPeriodIncreaseDecrease",
         "line": {
          "color": "#636efa",
          "dash": "solid"
         },
         "marker": {
          "symbol": "circle"
         },
         "mode": "lines+markers",
         "name": "CashAndCashEquivalentsPeriodIncreaseDecrease",
         "orientation": "v",
         "showlegend": true,
         "type": "scatter",
         "x": [
          "2012-09-29T00:00:00.000000",
          "2013-09-28T00:00:00.000000",
          "2014-09-27T00:00:00.000000",
          "2015-09-26T00:00:00.000000",
          "2016-09-24T00:00:00.000000",
          "2017-09-30T00:00:00.000000",
          "2018-09-29T00:00:00.000000"
         ],
         "xaxis": "x",
         "y": {
          "bdata": "AAAAYPe+y0EAAAAIhCzqQQAAAMBlvLjBAAAAMO8a+0EAAACAS/TCwQAAAIDtPqfBAAAA4Hbz9EE=",
          "dtype": "f8"
         },
         "yaxis": "y"
        },
        {
         "hovertemplate": "Cash Flow Category=NetCashProvidedByUsedInOperatingActivities<br>Period End Date=%{x}<br>Amount (USD)=%{y}<extra></extra>",
         "legendgroup": "NetCashProvidedByUsedInOperatingActivities",
         "line": {
          "color": "#EF553B",
          "dash": "solid"
         },
         "marker": {
          "symbol": "circle"
         },
         "mode": "lines+markers",
         "name": "NetCashProvidedByUsedInOperatingActivities",
         "orientation": "v",
         "showlegend": true,
         "type": "scatter",
         "x": [
          "2015-09-26T00:00:00.000000",
          "2016-09-24T00:00:00.000000",
          "2017-09-30T00:00:00.000000",
          "2018-09-29T00:00:00.000000",
          "2019-09-28T00:00:00.000000",
          "2020-09-26T00:00:00.000000",
          "2021-09-25T00:00:00.000000",
          "2022-09-24T00:00:00.000000",
          "2023-09-30T00:00:00.000000",
          "2024-09-28T00:00:00.000000"
         ],
         "xaxis": "x",
         "y": {
          "bdata": "AACAwNTrMkIAAIC3WdcuQgAAgHQ36C1CAACAEm0HMkIAAMChBigwQgAAgIyLyDJCAACA5SU5OEIAAMBXxHA8QgAAwFHgvDlCAACA13yIO0I=",
          "dtype": "f8"
         },
         "yaxis": "y"
        },
        {
         "hovertemplate": "Cash Flow Category=NetCashProvidedByUsedInInvestingActivities<br>Period End Date=%{x}<br>Amount (USD)=%{y}<extra></extra>",
         "legendgroup": "NetCashProvidedByUsedInInvestingActivities",
         "line": {
          "color": "#00cc96",
          "dash": "solid"
         },
         "marker": {
          "symbol": "circle"
         },
         "mode": "lines+markers",
         "name": "NetCashProvidedByUsedInInvestingActivities",
         "orientation": "v",
         "showlegend": true,
         "type": "scatter",
         "x": [
          "2015-09-26T00:00:00.000000",
          "2016-09-24T00:00:00.000000",
          "2017-09-30T00:00:00.000000",
          "2018-09-29T00:00:00.000000",
          "2019-09-28T00:00:00.000000",
          "2020-09-26T00:00:00.000000",
          "2021-09-25T00:00:00.000000",
          "2022-09-24T00:00:00.000000",
          "2023-09-30T00:00:00.000000",
          "2024-09-28T00:00:00.000000"
         ],
         "xaxis": "x",
         "y": {
          "bdata": "AAAAMWI0KsIAAICw4mglwgAAAG/LoCXCAAAApN3sDUIAAADEOl8lQgAAAEie9O/BAAAAspgXC8IAAADim9EUwgAAAAi6mutBAAAAeBHe5UE=",
          "dtype": "f8"
         },
         "yaxis": "y"
        },
        {
         "hovertemplate": "Cash Flow Category=NetCashProvidedByUsedInFinancingActivities<br>Period End Date=%{x}<br>Amount (USD)=%{y}<extra></extra>",
         "legendgroup": "NetCashProvidedByUsedInFinancingActivities",
         "line": {
          "color": "#ab63fa",
          "dash": "solid"
         },
         "marker": {
          "symbol": "circle"
         },
         "mode": "lines+markers",
         "name": "NetCashProvidedByUsedInFinancingActivities",
         "orientation": "v",
         "showlegend": true,
         "type": "scatter",
         "x": [
          "2015-09-26T00:00:00.000000",
          "2016-09-24T00:00:00.000000",
          "2017-09-30T00:00:00.000000",
          "2018-09-29T00:00:00.000000",
          "2019-09-28T00:00:00.000000",
          "2020-09-26T00:00:00.000000",
          "2021-09-25T00:00:00.000000",
          "2022-09-24T00:00:00.000000",
          "2023-09-30T00:00:00.000000",
          "2024-09-28T00:00:00.000000"
         ],
         "xaxis": "x",
         "y": {
          "bdata": "AAAA1NJ/EMIAAABqkHQTwgAAAOZVvRDCAAAAWdF1NMIAAACYly41wgAAABHgNjTCAABAvEW8NcIAAEChJ8k5wgAAAIJjQjnCAADA3cBmPMI=",
          "dtype": "f8"
         },
         "yaxis": "y"
        }
       ],
       "layout": {
        "hovermode": "x unified",
        "legend": {
         "title": {
          "text": "Cash Flow Category"
         },
         "tracegroupgap": 0
        },
        "template": {
         "data": {
          "bar": [
           {
            "error_x": {
             "color": "#2a3f5f"
            },
            "error_y": {
             "color": "#2a3f5f"
            },
            "marker": {
             "line": {
              "color": "#E5ECF6",
              "width": 0.5
             },
             "pattern": {
              "fillmode": "overlay",
              "size": 10,
              "solidity": 0.2
             }
            },
            "type": "bar"
           }
          ],
          "barpolar": [
           {
            "marker": {
             "line": {
              "color": "#E5ECF6",
              "width": 0.5
             },
             "pattern": {
              "fillmode": "overlay",
              "size": 10,
              "solidity": 0.2
             }
            },
            "type": "barpolar"
           }
          ],
          "carpet": [
           {
            "aaxis": {
             "endlinecolor": "#2a3f5f",
             "gridcolor": "white",
             "linecolor": "white",
             "minorgridcolor": "white",
             "startlinecolor": "#2a3f5f"
            },
            "baxis": {
             "endlinecolor": "#2a3f5f",
             "gridcolor": "white",
             "linecolor": "white",
             "minorgridcolor": "white",
             "startlinecolor": "#2a3f5f"
            },
            "type": "carpet"
           }
          ],
          "choropleth": [
           {
            "colorbar": {
             "outlinewidth": 0,
             "ticks": ""
            },
            "type": "choropleth"
           }
          ],
          "contour": [
           {
            "colorbar": {
             "outlinewidth": 0,
             "ticks": ""
            },
            "colorscale": [
             [
              0,
              "#0d0887"
             ],
             [
              0.1111111111111111,
              "#46039f"
             ],
             [
              0.2222222222222222,
              "#7201a8"
             ],
             [
              0.3333333333333333,
              "#9c179e"
             ],
             [
              0.4444444444444444,
              "#bd3786"
             ],
             [
              0.5555555555555556,
              "#d8576b"
             ],
             [
              0.6666666666666666,
              "#ed7953"
             ],
             [
              0.7777777777777778,
              "#fb9f3a"
             ],
             [
              0.8888888888888888,
              "#fdca26"
             ],
             [
              1,
              "#f0f921"
             ]
            ],
            "type": "contour"
           }
          ],
          "contourcarpet": [
           {
            "colorbar": {
             "outlinewidth": 0,
             "ticks": ""
            },
            "type": "contourcarpet"
           }
          ],
          "heatmap": [
           {
            "colorbar": {
             "outlinewidth": 0,
             "ticks": ""
            },
            "colorscale": [
             [
              0,
              "#0d0887"
             ],
             [
              0.1111111111111111,
              "#46039f"
             ],
             [
              0.2222222222222222,
              "#7201a8"
             ],
             [
              0.3333333333333333,
              "#9c179e"
             ],
             [
              0.4444444444444444,
              "#bd3786"
             ],
             [
              0.5555555555555556,
              "#d8576b"
             ],
             [
              0.6666666666666666,
              "#ed7953"
             ],
             [
              0.7777777777777778,
              "#fb9f3a"
             ],
             [
              0.8888888888888888,
              "#fdca26"
             ],
             [
              1,
              "#f0f921"
             ]
            ],
            "type": "heatmap"
           }
          ],
          "histogram": [
           {
            "marker": {
             "pattern": {
              "fillmode": "overlay",
              "size": 10,
              "solidity": 0.2
             }
            },
            "type": "histogram"
           }
          ],
          "histogram2d": [
           {
            "colorbar": {
             "outlinewidth": 0,
             "ticks": ""
            },
            "colorscale": [
             [
              0,
              "#0d0887"
             ],
             [
              0.1111111111111111,
              "#46039f"
             ],
             [
              0.2222222222222222,
              "#7201a8"
             ],
             [
              0.3333333333333333,
              "#9c179e"
             ],
             [
              0.4444444444444444,
              "#bd3786"
             ],
             [
              0.5555555555555556,
              "#d8576b"
             ],
             [
              0.6666666666666666,
              "#ed7953"
             ],
             [
              0.7777777777777778,
              "#fb9f3a"
             ],
             [
              0.8888888888888888,
              "#fdca26"
             ],
             [
              1,
              "#f0f921"
             ]
            ],
            "type": "histogram2d"
           }
          ],
          "histogram2dcontour": [
           {
            "colorbar": {
             "outlinewidth": 0,
             "ticks": ""
            },
            "colorscale": [
             [
              0,
              "#0d0887"
             ],
             [
              0.1111111111111111,
              "#46039f"
             ],
             [
              0.2222222222222222,
              "#7201a8"
             ],
             [
              0.3333333333333333,
              "#9c179e"
             ],
             [
              0.4444444444444444,
              "#bd3786"
             ],
             [
              0.5555555555555556,
              "#d8576b"
             ],
             [
              0.6666666666666666,
              "#ed7953"
             ],
             [
              0.7777777777777778,
              "#fb9f3a"
             ],
             [
              0.8888888888888888,
              "#fdca26"
             ],
             [
              1,
              "#f0f921"
             ]
            ],
            "type": "histogram2dcontour"
           }
          ],
          "mesh3d": [
           {
            "colorbar": {
             "outlinewidth": 0,
             "ticks": ""
            },
            "type": "mesh3d"
           }
          ],
          "parcoords": [
           {
            "line": {
             "colorbar": {
              "outlinewidth": 0,
              "ticks": ""
             }
            },
            "type": "parcoords"
           }
          ],
          "pie": [
           {
            "automargin": true,
            "type": "pie"
           }
          ],
          "scatter": [
           {
            "fillpattern": {
             "fillmode": "overlay",
             "size": 10,
             "solidity": 0.2
            },
            "type": "scatter"
           }
          ],
          "scatter3d": [
           {
            "line": {
             "colorbar": {
              "outlinewidth": 0,
              "ticks": ""
             }
            },
            "marker": {
             "colorbar": {
              "outlinewidth": 0,
              "ticks": ""
             }
            },
            "type": "scatter3d"
           }
          ],
          "scattercarpet": [
           {
            "marker": {
             "colorbar": {
              "outlinewidth": 0,
              "ticks": ""
             }
            },
            "type": "scattercarpet"
           }
          ],
          "scattergeo": [
           {
            "marker": {
             "colorbar": {
              "outlinewidth": 0,
              "ticks": ""
             }
            },
            "type": "scattergeo"
           }
          ],
          "scattergl": [
           {
            "marker": {
             "colorbar": {
              "outlinewidth": 0,
              "ticks": ""
             }
            },
            "type": "scattergl"
           }
          ],
          "scattermap": [
           {
            "marker": {
             "colorbar": {
              "outlinewidth": 0,
              "ticks": ""
             }
            },
            "type": "scattermap"
           }
          ],
          "scattermapbox": [
           {
            "marker": {
             "colorbar": {
              "outlinewidth": 0,
              "ticks": ""
             }
            },
            "type": "scattermapbox"
           }
          ],
          "scatterpolar": [
           {
            "marker": {
             "colorbar": {
              "outlinewidth": 0,
              "ticks": ""
             }
            },
            "type": "scatterpolar"
           }
          ],
          "scatterpolargl": [
           {
            "marker": {
             "colorbar": {
              "outlinewidth": 0,
              "ticks": ""
             }
            },
            "type": "scatterpolargl"
           }
          ],
          "scatterternary": [
           {
            "marker": {
             "colorbar": {
              "outlinewidth": 0,
              "ticks": ""
             }
            },
            "type": "scatterternary"
           }
          ],
          "surface": [
           {
            "colorbar": {
             "outlinewidth": 0,
             "ticks": ""
            },
            "colorscale": [
             [
              0,
              "#0d0887"
             ],
             [
              0.1111111111111111,
              "#46039f"
             ],
             [
              0.2222222222222222,
              "#7201a8"
             ],
             [
              0.3333333333333333,
              "#9c179e"
             ],
             [
              0.4444444444444444,
              "#bd3786"
             ],
             [
              0.5555555555555556,
              "#d8576b"
             ],
             [
              0.6666666666666666,
              "#ed7953"
             ],
             [
              0.7777777777777778,
              "#fb9f3a"
             ],
             [
              0.8888888888888888,
              "#fdca26"
             ],
             [
              1,
              "#f0f921"
             ]
            ],
            "type": "surface"
           }
          ],
          "table": [
           {
            "cells": {
             "fill": {
              "color": "#EBF0F8"
             },
             "line": {
              "color": "white"
             }
            },
            "header": {
             "fill": {
              "color": "#C8D4E3"
             },
             "line": {
              "color": "white"
             }
            },
            "type": "table"
           }
          ]
         },
         "layout": {
          "annotationdefaults": {
           "arrowcolor": "#2a3f5f",
           "arrowhead": 0,
           "arrowwidth": 1
          },
          "autotypenumbers": "strict",
          "coloraxis": {
           "colorbar": {
            "outlinewidth": 0,
            "ticks": ""
           }
          },
          "colorscale": {
           "diverging": [
            [
             0,
             "#8e0152"
            ],
            [
             0.1,
             "#c51b7d"
            ],
            [
             0.2,
             "#de77ae"
            ],
            [
             0.3,
             "#f1b6da"
            ],
            [
             0.4,
             "#fde0ef"
            ],
            [
             0.5,
             "#f7f7f7"
            ],
            [
             0.6,
             "#e6f5d0"
            ],
            [
             0.7,
             "#b8e186"
            ],
            [
             0.8,
             "#7fbc41"
            ],
            [
             0.9,
             "#4d9221"
            ],
            [
             1,
             "#276419"
            ]
           ],
           "sequential": [
            [
             0,
             "#0d0887"
            ],
            [
             0.1111111111111111,
             "#46039f"
            ],
            [
             0.2222222222222222,
             "#7201a8"
            ],
            [
             0.3333333333333333,
             "#9c179e"
            ],
            [
             0.4444444444444444,
             "#bd3786"
            ],
            [
             0.5555555555555556,
             "#d8576b"
            ],
            [
             0.6666666666666666,
             "#ed7953"
            ],
            [
             0.7777777777777778,
             "#fb9f3a"
            ],
            [
             0.8888888888888888,
             "#fdca26"
            ],
            [
             1,
             "#f0f921"
            ]
           ],
           "sequentialminus": [
            [
             0,
             "#0d0887"
            ],
            [
             0.1111111111111111,
             "#46039f"
            ],
            [
             0.2222222222222222,
             "#7201a8"
            ],
            [
             0.3333333333333333,
             "#9c179e"
            ],
            [
             0.4444444444444444,
             "#bd3786"
            ],
            [
             0.5555555555555556,
             "#d8576b"
            ],
            [
             0.6666666666666666,
             "#ed7953"
            ],
            [
             0.7777777777777778,
             "#fb9f3a"
            ],
            [
             0.8888888888888888,
             "#fdca26"
            ],
            [
             1,
             "#f0f921"
            ]
           ]
          },
          "colorway": [
           "#636efa",
           "#EF553B",
           "#00cc96",
           "#ab63fa",
           "#FFA15A",
           "#19d3f3",
           "#FF6692",
           "#B6E880",
           "#FF97FF",
           "#FECB52"
          ],
          "font": {
           "color": "#2a3f5f"
          },
          "geo": {
           "bgcolor": "white",
           "lakecolor": "white",
           "landcolor": "#E5ECF6",
           "showlakes": true,
           "showland": true,
           "subunitcolor": "white"
          },
          "hoverlabel": {
           "align": "left"
          },
          "hovermode": "closest",
          "mapbox": {
           "style": "light"
          },
          "paper_bgcolor": "white",
          "plot_bgcolor": "#E5ECF6",
          "polar": {
           "angularaxis": {
            "gridcolor": "white",
            "linecolor": "white",
            "ticks": ""
           },
           "bgcolor": "#E5ECF6",
           "radialaxis": {
            "gridcolor": "white",
            "linecolor": "white",
            "ticks": ""
           }
          },
          "scene": {
           "xaxis": {
            "backgroundcolor": "#E5ECF6",
            "gridcolor": "white",
            "gridwidth": 2,
            "linecolor": "white",
            "showbackground": true,
            "ticks": "",
            "zerolinecolor": "white"
           },
           "yaxis": {
            "backgroundcolor": "#E5ECF6",
            "gridcolor": "white",
            "gridwidth": 2,
            "linecolor": "white",
            "showbackground": true,
            "ticks": "",
            "zerolinecolor": "white"
           },
           "zaxis": {
            "backgroundcolor": "#E5ECF6",
            "gridcolor": "white",
            "gridwidth": 2,
            "linecolor": "white",
            "showbackground": true,
            "ticks": "",
            "zerolinecolor": "white"
           }
          },
          "shapedefaults": {
           "line": {
            "color": "#2a3f5f"
           }
          },
          "ternary": {
           "aaxis": {
            "gridcolor": "white",
            "linecolor": "white",
            "ticks": ""
           },
           "baxis": {
            "gridcolor": "white",
            "linecolor": "white",
            "ticks": ""
           },
           "bgcolor": "#E5ECF6",
           "caxis": {
            "gridcolor": "white",
            "linecolor": "white",
            "ticks": ""
           }
          },
          "title": {
           "x": 0.05
          },
          "xaxis": {
           "automargin": true,
           "gridcolor": "white",
           "linecolor": "white",
           "ticks": "",
           "title": {
            "standoff": 15
           },
           "zerolinecolor": "white",
           "zerolinewidth": 2
          },
          "yaxis": {
           "automargin": true,
           "gridcolor": "white",
           "linecolor": "white",
           "ticks": "",
           "title": {
            "standoff": 15
           },
           "zerolinecolor": "white",
           "zerolinewidth": 2
          }
         }
        },
        "title": {
         "text": "Annual Cash Flow Trends for AAPL (CIK: 0000320193) - 10-K Filings"
        },
        "xaxis": {
         "anchor": "y",
         "domain": [
          0,
          1
         ],
         "title": {
          "text": "Period End Date"
         }
        },
        "yaxis": {
         "anchor": "x",
         "domain": [
          0,
          1
         ],
         "title": {
          "text": "Amount (USD)"
         }
        }
       }
      }
     },
     "metadata": {},
     "output_type": "display_data"
    },
    {
     "data": {
      "application/vnd.plotly.v1+json": {
       "config": {
        "plotlyServerURL": "https://plot.ly"
       },
       "data": [
        {
         "hovertemplate": "Cash Flow Category=CashAndCashEquivalentsPeriodIncreaseDecrease<br>Period End Date=%{x}<br>Amount (USD)=%{y}<extra></extra>",
         "legendgroup": "CashAndCashEquivalentsPeriodIncreaseDecrease",
         "line": {
          "color": "#636efa",
          "dash": "solid"
         },
         "marker": {
          "symbol": "circle"
         },
         "mode": "lines+markers",
         "name": "CashAndCashEquivalentsPeriodIncreaseDecrease",
         "orientation": "v",
         "showlegend": true,
         "type": "scatter",
         "x": [
          "2013-12-28T00:00:00.000000",
          "2014-03-29T00:00:00.000000",
          "2014-06-28T00:00:00.000000",
          "2014-12-27T00:00:00.000000",
          "2015-03-28T00:00:00.000000",
          "2015-06-27T00:00:00.000000",
          "2015-12-26T00:00:00.000000",
          "2016-03-26T00:00:00.000000",
          "2016-06-25T00:00:00.000000",
          "2016-12-31T00:00:00.000000",
          "2017-04-01T00:00:00.000000",
          "2017-07-01T00:00:00.000000",
          "2017-12-30T00:00:00.000000",
          "2018-03-31T00:00:00.000000",
          "2018-06-30T00:00:00.000000",
          "2018-12-29T00:00:00.000000"
         ],
         "xaxis": "x",
         "y": {
          "bdata": "AAAAADOypcEAAACIu3jxQQAAACBxGtPBAAAASAD99EEAAACg9TjDQQAAALCt+tVBAAAAHLuB8MEAAACA9nu3QQAAANjieuXBAAAAyOyk7sEAAAAcOdjzwQAAABCEgdzBAAAAyFzU+kEAAADSoBEXQgAAAGRpwgVCAAAA+hiQEUI=",
          "dtype": "f8"
         },
         "yaxis": "y"
        },
        {
         "hovertemplate": "Cash Flow Category=NetCashProvidedByUsedInOperatingActivities<br>Period End Date=%{x}<br>Amount (USD)=%{y}<extra></extra>",
         "legendgroup": "NetCashProvidedByUsedInOperatingActivities",
         "line": {
          "color": "#EF553B",
          "dash": "solid"
         },
         "marker": {
          "symbol": "circle"
         },
         "mode": "lines+markers",
         "name": "NetCashProvidedByUsedInOperatingActivities",
         "orientation": "v",
         "showlegend": true,
         "type": "scatter",
         "x": [
          "2016-03-26T00:00:00.000000",
          "2016-06-25T00:00:00.000000",
          "2016-12-31T00:00:00.000000",
          "2017-04-01T00:00:00.000000",
          "2017-07-01T00:00:00.000000",
          "2017-12-30T00:00:00.000000",
          "2018-03-31T00:00:00.000000",
          "2018-06-30T00:00:00.000000",
          "2018-12-29T00:00:00.000000",
          "2019-03-30T00:00:00.000000",
          "2019-06-29T00:00:00.000000",
          "2019-12-28T00:00:00.000000",
          "2020-03-28T00:00:00.000000",
          "2020-06-27T00:00:00.000000",
          "2020-12-26T00:00:00.000000",
          "2021-03-27T00:00:00.000000",
          "2021-06-26T00:00:00.000000",
          "2021-12-25T00:00:00.000000",
          "2022-03-26T00:00:00.000000",
          "2022-06-25T00:00:00.000000",
          "2022-12-31T00:00:00.000000",
          "2023-04-01T00:00:00.000000",
          "2023-07-01T00:00:00.000000",
          "2023-12-30T00:00:00.000000",
          "2024-03-30T00:00:00.000000",
          "2024-06-29T00:00:00.000000",
          "2024-12-28T00:00:00.000000"
         ],
         "xaxis": "x",
         "y": {
          "bdata": "AAAArMowIkIAAACZdiQnQgAAAHIXXRlCAAAArgGJIkIAAAAeypImQgAAAK2TWRpCAACAy2w4JEIAAIB3h/cqQgAAAFJk2xhCAACAvnmfIUIAAIBImAonQgAAANSUaxxCAACA5ZVoJEIAAABpPfwrQgAAgOHoDCJCAAAA7Ko3LUIAAIBbIoUzQgAAAJPI3iVCAAAAVzd+MUIAAACKr9I2QgAAAH1sqx9CAACARlQiLUIAAED+iLU0QgAAgMfakyJCAACAoLYkLUIAAMBybUo1QgAAAGcP4RtC",
          "dtype": "f8"
         },
         "yaxis": "y"
        },
        {
         "hovertemplate": "Cash Flow Category=NetCashProvidedByUsedInInvestingActivities<br>Period End Date=%{x}<br>Amount (USD)=%{y}<extra></extra>",
         "legendgroup": "NetCashProvidedByUsedInInvestingActivities",
         "line": {
          "color": "#00cc96",
          "dash": "solid"
         },
         "marker": {
          "symbol": "circle"
         },
         "mode": "lines+markers",
         "name": "NetCashProvidedByUsedInInvestingActivities",
         "orientation": "v",
         "showlegend": true,
         "type": "scatter",
         "x": [
          "2016-03-26T00:00:00.000000",
          "2016-06-25T00:00:00.000000",
          "2016-12-31T00:00:00.000000",
          "2017-04-01T00:00:00.000000",
          "2017-07-01T00:00:00.000000",
          "2017-12-30T00:00:00.000000",
          "2018-03-31T00:00:00.000000",
          "2018-06-30T00:00:00.000000",
          "2018-12-29T00:00:00.000000",
          "2019-03-30T00:00:00.000000",
          "2019-06-29T00:00:00.000000",
          "2019-12-28T00:00:00.000000",
          "2020-03-28T00:00:00.000000",
          "2020-06-27T00:00:00.000000",
          "2020-12-26T00:00:00.000000",
          "2021-03-27T00:00:00.000000",
          "2021-06-26T00:00:00.000000",
          "2021-12-25T00:00:00.000000",
          "2022-03-26T00:00:00.000000",
          "2022-06-25T00:00:00.000000",
          "2022-12-31T00:00:00.000000",
          "2023-04-01T00:00:00.000000",
          "2023-07-01T00:00:00.000000",
          "2023-12-30T00:00:00.000000",
          "2024-03-30T00:00:00.000000",
          "2024-06-29T00:00:00.000000",
          "2024-12-28T00:00:00.000000"
         ],
         "xaxis": "x",
         "y": {
          "bdata": "AAAALnXEH8IAAAAqGPchwgAAAEIKzxHCAAAAjA8JH8IAAACsnf8gwgAAAIw3UAnCAAAAIMcpDEIAAABT7cERQgAAANBFxfVBAAAAuLrfEUIAAADLW74lQgAAAAhpdQnCAAAAnFpX8cEAAAB4ikoCwgAAACBX+v/BAAAASIKmEcIAAABowaUMwgAAAHTw/w3CAAAA8+qgF8IAAAAZdK8TwgAAANA8iNXBAAAAQBcMykEAAABwEYnTQQAAAPDrttxBAAAAkF0Y2EEAAAAg5jPWQQAAAIAwPQJC",
          "dtype": "f8"
         },
         "yaxis": "y"
        },
        {
         "hovertemplate": "Cash Flow Category=NetCashProvidedByUsedInFinancingActivities<br>Period End Date=%{x}<br>Amount (USD)=%{y}<extra></extra>",
         "legendgroup": "NetCashProvidedByUsedInFinancingActivities",
         "line": {
          "color": "#ab63fa",
          "dash": "solid"
         },
         "marker": {
          "symbol": "circle"
         },
         "mode": "lines+markers",
         "name": "NetCashProvidedByUsedInFinancingActivities",
         "orientation": "v",
         "showlegend": true,
         "type": "scatter",
         "x": [
          "2016-03-26T00:00:00.000000",
          "2016-06-25T00:00:00.000000",
          "2016-12-31T00:00:00.000000",
          "2017-04-01T00:00:00.000000",
          "2017-07-01T00:00:00.000000",
          "2017-12-30T00:00:00.000000",
          "2018-03-31T00:00:00.000000",
          "2018-06-30T00:00:00.000000",
          "2018-12-29T00:00:00.000000",
          "2019-03-30T00:00:00.000000",
          "2019-06-29T00:00:00.000000",
          "2019-12-28T00:00:00.000000",
          "2020-03-28T00:00:00.000000",
          "2020-06-27T00:00:00.000000",
          "2020-12-26T00:00:00.000000",
          "2021-03-27T00:00:00.000000",
          "2021-06-26T00:00:00.000000",
          "2021-12-25T00:00:00.000000",
          "2022-03-26T00:00:00.000000",
          "2022-06-25T00:00:00.000000",
          "2022-12-31T00:00:00.000000",
          "2023-04-01T00:00:00.000000",
          "2023-07-01T00:00:00.000000",
          "2023-12-30T00:00:00.000000",
          "2024-03-30T00:00:00.000000",
          "2024-06-29T00:00:00.000000",
          "2024-12-28T00:00:00.000000"
         ],
         "xaxis": "x",
         "y": {
          "bdata": "AAAAQMH88MEAAAByMhQKwgAAAJJVxQbCAAAALgT+BcIAAABK4twJwgAAANSC8fvBAAAAVRx0H8IAAADI42cuwgAAAJg5eQnCAACAstoVJMIAAEDukUgwwgAAADeAqRfCAACAMf6UJcIAAIA3zHsuwgAAAMHCCB7CAACAd4tKJMIAAMAYaf0wwgAAAPegORrCAAAAV4RQKsIAAMCiG4wzwgAAgKFwjyDCAACAz/qJLMIAAMDDXN4zwgAAAEEIfBzCAAAAlelpLMIAAMCYvJc2wgAAgJFjVSLC",
          "dtype": "f8"
         },
         "yaxis": "y"
        }
       ],
       "layout": {
        "hovermode": "x unified",
        "legend": {
         "title": {
          "text": "Cash Flow Category"
         },
         "tracegroupgap": 0
        },
        "template": {
         "data": {
          "bar": [
           {
            "error_x": {
             "color": "#2a3f5f"
            },
            "error_y": {
             "color": "#2a3f5f"
            },
            "marker": {
             "line": {
              "color": "#E5ECF6",
              "width": 0.5
             },
             "pattern": {
              "fillmode": "overlay",
              "size": 10,
              "solidity": 0.2
             }
            },
            "type": "bar"
           }
          ],
          "barpolar": [
           {
            "marker": {
             "line": {
              "color": "#E5ECF6",
              "width": 0.5
             },
             "pattern": {
              "fillmode": "overlay",
              "size": 10,
              "solidity": 0.2
             }
            },
            "type": "barpolar"
           }
          ],
          "carpet": [
           {
            "aaxis": {
             "endlinecolor": "#2a3f5f",
             "gridcolor": "white",
             "linecolor": "white",
             "minorgridcolor": "white",
             "startlinecolor": "#2a3f5f"
            },
            "baxis": {
             "endlinecolor": "#2a3f5f",
             "gridcolor": "white",
             "linecolor": "white",
             "minorgridcolor": "white",
             "startlinecolor": "#2a3f5f"
            },
            "type": "carpet"
           }
          ],
          "choropleth": [
           {
            "colorbar": {
             "outlinewidth": 0,
             "ticks": ""
            },
            "type": "choropleth"
           }
          ],
          "contour": [
           {
            "colorbar": {
             "outlinewidth": 0,
             "ticks": ""
            },
            "colorscale": [
             [
              0,
              "#0d0887"
             ],
             [
              0.1111111111111111,
              "#46039f"
             ],
             [
              0.2222222222222222,
              "#7201a8"
             ],
             [
              0.3333333333333333,
              "#9c179e"
             ],
             [
              0.4444444444444444,
              "#bd3786"
             ],
             [
              0.5555555555555556,
              "#d8576b"
             ],
             [
              0.6666666666666666,
              "#ed7953"
             ],
             [
              0.7777777777777778,
              "#fb9f3a"
             ],
             [
              0.8888888888888888,
              "#fdca26"
             ],
             [
              1,
              "#f0f921"
             ]
            ],
            "type": "contour"
           }
          ],
          "contourcarpet": [
           {
            "colorbar": {
             "outlinewidth": 0,
             "ticks": ""
            },
            "type": "contourcarpet"
           }
          ],
          "heatmap": [
           {
            "colorbar": {
             "outlinewidth": 0,
             "ticks": ""
            },
            "colorscale": [
             [
              0,
              "#0d0887"
             ],
             [
              0.1111111111111111,
              "#46039f"
             ],
             [
              0.2222222222222222,
              "#7201a8"
             ],
             [
              0.3333333333333333,
              "#9c179e"
             ],
             [
              0.4444444444444444,
              "#bd3786"
             ],
             [
              0.5555555555555556,
              "#d8576b"
             ],
             [
              0.6666666666666666,
              "#ed7953"
             ],
             [
              0.7777777777777778,
              "#fb9f3a"
             ],
             [
              0.8888888888888888,
              "#fdca26"
             ],
             [
              1,
              "#f0f921"
             ]
            ],
            "type": "heatmap"
           }
          ],
          "histogram": [
           {
            "marker": {
             "pattern": {
              "fillmode": "overlay",
              "size": 10,
              "solidity": 0.2
             }
            },
            "type": "histogram"
           }
          ],
          "histogram2d": [
           {
            "colorbar": {
             "outlinewidth": 0,
             "ticks": ""
            },
            "colorscale": [
             [
              0,
              "#0d0887"
             ],
             [
              0.1111111111111111,
              "#46039f"
             ],
             [
              0.2222222222222222,
              "#7201a8"
             ],
             [
              0.3333333333333333,
              "#9c179e"
             ],
             [
              0.4444444444444444,
              "#bd3786"
             ],
             [
              0.5555555555555556,
              "#d8576b"
             ],
             [
              0.6666666666666666,
              "#ed7953"
             ],
             [
              0.7777777777777778,
              "#fb9f3a"
             ],
             [
              0.8888888888888888,
              "#fdca26"
             ],
             [
              1,
              "#f0f921"
             ]
            ],
            "type": "histogram2d"
           }
          ],
          "histogram2dcontour": [
           {
            "colorbar": {
             "outlinewidth": 0,
             "ticks": ""
            },
            "colorscale": [
             [
              0,
              "#0d0887"
             ],
             [
              0.1111111111111111,
              "#46039f"
             ],
             [
              0.2222222222222222,
              "#7201a8"
             ],
             [
              0.3333333333333333,
              "#9c179e"
             ],
             [
              0.4444444444444444,
              "#bd3786"
             ],
             [
              0.5555555555555556,
              "#d8576b"
             ],
             [
              0.6666666666666666,
              "#ed7953"
             ],
             [
              0.7777777777777778,
              "#fb9f3a"
             ],
             [
              0.8888888888888888,
              "#fdca26"
             ],
             [
              1,
              "#f0f921"
             ]
            ],
            "type": "histogram2dcontour"
           }
          ],
          "mesh3d": [
           {
            "colorbar": {
             "outlinewidth": 0,
             "ticks": ""
            },
            "type": "mesh3d"
           }
          ],
          "parcoords": [
           {
            "line": {
             "colorbar": {
              "outlinewidth": 0,
              "ticks": ""
             }
            },
            "type": "parcoords"
           }
          ],
          "pie": [
           {
            "automargin": true,
            "type": "pie"
           }
          ],
          "scatter": [
           {
            "fillpattern": {
             "fillmode": "overlay",
             "size": 10,
             "solidity": 0.2
            },
            "type": "scatter"
           }
          ],
          "scatter3d": [
           {
            "line": {
             "colorbar": {
              "outlinewidth": 0,
              "ticks": ""
             }
            },
            "marker": {
             "colorbar": {
              "outlinewidth": 0,
              "ticks": ""
             }
            },
            "type": "scatter3d"
           }
          ],
          "scattercarpet": [
           {
            "marker": {
             "colorbar": {
              "outlinewidth": 0,
              "ticks": ""
             }
            },
            "type": "scattercarpet"
           }
          ],
          "scattergeo": [
           {
            "marker": {
             "colorbar": {
              "outlinewidth": 0,
              "ticks": ""
             }
            },
            "type": "scattergeo"
           }
          ],
          "scattergl": [
           {
            "marker": {
             "colorbar": {
              "outlinewidth": 0,
              "ticks": ""
             }
            },
            "type": "scattergl"
           }
          ],
          "scattermap": [
           {
            "marker": {
             "colorbar": {
              "outlinewidth": 0,
              "ticks": ""
             }
            },
            "type": "scattermap"
           }
          ],
          "scattermapbox": [
           {
            "marker": {
             "colorbar": {
              "outlinewidth": 0,
              "ticks": ""
             }
            },
            "type": "scattermapbox"
           }
          ],
          "scatterpolar": [
           {
            "marker": {
             "colorbar": {
              "outlinewidth": 0,
              "ticks": ""
             }
            },
            "type": "scatterpolar"
           }
          ],
          "scatterpolargl": [
           {
            "marker": {
             "colorbar": {
              "outlinewidth": 0,
              "ticks": ""
             }
            },
            "type": "scatterpolargl"
           }
          ],
          "scatterternary": [
           {
            "marker": {
             "colorbar": {
              "outlinewidth": 0,
              "ticks": ""
             }
            },
            "type": "scatterternary"
           }
          ],
          "surface": [
           {
            "colorbar": {
             "outlinewidth": 0,
             "ticks": ""
            },
            "colorscale": [
             [
              0,
              "#0d0887"
             ],
             [
              0.1111111111111111,
              "#46039f"
             ],
             [
              0.2222222222222222,
              "#7201a8"
             ],
             [
              0.3333333333333333,
              "#9c179e"
             ],
             [
              0.4444444444444444,
              "#bd3786"
             ],
             [
              0.5555555555555556,
              "#d8576b"
             ],
             [
              0.6666666666666666,
              "#ed7953"
             ],
             [
              0.7777777777777778,
              "#fb9f3a"
             ],
             [
              0.8888888888888888,
              "#fdca26"
             ],
             [
              1,
              "#f0f921"
             ]
            ],
            "type": "surface"
           }
          ],
          "table": [
           {
            "cells": {
             "fill": {
              "color": "#EBF0F8"
             },
             "line": {
              "color": "white"
             }
            },
            "header": {
             "fill": {
              "color": "#C8D4E3"
             },
             "line": {
              "color": "white"
             }
            },
            "type": "table"
           }
          ]
         },
         "layout": {
          "annotationdefaults": {
           "arrowcolor": "#2a3f5f",
           "arrowhead": 0,
           "arrowwidth": 1
          },
          "autotypenumbers": "strict",
          "coloraxis": {
           "colorbar": {
            "outlinewidth": 0,
            "ticks": ""
           }
          },
          "colorscale": {
           "diverging": [
            [
             0,
             "#8e0152"
            ],
            [
             0.1,
             "#c51b7d"
            ],
            [
             0.2,
             "#de77ae"
            ],
            [
             0.3,
             "#f1b6da"
            ],
            [
             0.4,
             "#fde0ef"
            ],
            [
             0.5,
             "#f7f7f7"
            ],
            [
             0.6,
             "#e6f5d0"
            ],
            [
             0.7,
             "#b8e186"
            ],
            [
             0.8,
             "#7fbc41"
            ],
            [
             0.9,
             "#4d9221"
            ],
            [
             1,
             "#276419"
            ]
           ],
           "sequential": [
            [
             0,
             "#0d0887"
            ],
            [
             0.1111111111111111,
             "#46039f"
            ],
            [
             0.2222222222222222,
             "#7201a8"
            ],
            [
             0.3333333333333333,
             "#9c179e"
            ],
            [
             0.4444444444444444,
             "#bd3786"
            ],
            [
             0.5555555555555556,
             "#d8576b"
            ],
            [
             0.6666666666666666,
             "#ed7953"
            ],
            [
             0.7777777777777778,
             "#fb9f3a"
            ],
            [
             0.8888888888888888,
             "#fdca26"
            ],
            [
             1,
             "#f0f921"
            ]
           ],
           "sequentialminus": [
            [
             0,
             "#0d0887"
            ],
            [
             0.1111111111111111,
             "#46039f"
            ],
            [
             0.2222222222222222,
             "#7201a8"
            ],
            [
             0.3333333333333333,
             "#9c179e"
            ],
            [
             0.4444444444444444,
             "#bd3786"
            ],
            [
             0.5555555555555556,
             "#d8576b"
            ],
            [
             0.6666666666666666,
             "#ed7953"
            ],
            [
             0.7777777777777778,
             "#fb9f3a"
            ],
            [
             0.8888888888888888,
             "#fdca26"
            ],
            [
             1,
             "#f0f921"
            ]
           ]
          },
          "colorway": [
           "#636efa",
           "#EF553B",
           "#00cc96",
           "#ab63fa",
           "#FFA15A",
           "#19d3f3",
           "#FF6692",
           "#B6E880",
           "#FF97FF",
           "#FECB52"
          ],
          "font": {
           "color": "#2a3f5f"
          },
          "geo": {
           "bgcolor": "white",
           "lakecolor": "white",
           "landcolor": "#E5ECF6",
           "showlakes": true,
           "showland": true,
           "subunitcolor": "white"
          },
          "hoverlabel": {
           "align": "left"
          },
          "hovermode": "closest",
          "mapbox": {
           "style": "light"
          },
          "paper_bgcolor": "white",
          "plot_bgcolor": "#E5ECF6",
          "polar": {
           "angularaxis": {
            "gridcolor": "white",
            "linecolor": "white",
            "ticks": ""
           },
           "bgcolor": "#E5ECF6",
           "radialaxis": {
            "gridcolor": "white",
            "linecolor": "white",
            "ticks": ""
           }
          },
          "scene": {
           "xaxis": {
            "backgroundcolor": "#E5ECF6",
            "gridcolor": "white",
            "gridwidth": 2,
            "linecolor": "white",
            "showbackground": true,
            "ticks": "",
            "zerolinecolor": "white"
           },
           "yaxis": {
            "backgroundcolor": "#E5ECF6",
            "gridcolor": "white",
            "gridwidth": 2,
            "linecolor": "white",
            "showbackground": true,
            "ticks": "",
            "zerolinecolor": "white"
           },
           "zaxis": {
            "backgroundcolor": "#E5ECF6",
            "gridcolor": "white",
            "gridwidth": 2,
            "linecolor": "white",
            "showbackground": true,
            "ticks": "",
            "zerolinecolor": "white"
           }
          },
          "shapedefaults": {
           "line": {
            "color": "#2a3f5f"
           }
          },
          "ternary": {
           "aaxis": {
            "gridcolor": "white",
            "linecolor": "white",
            "ticks": ""
           },
           "baxis": {
            "gridcolor": "white",
            "linecolor": "white",
            "ticks": ""
           },
           "bgcolor": "#E5ECF6",
           "caxis": {
            "gridcolor": "white",
            "linecolor": "white",
            "ticks": ""
           }
          },
          "title": {
           "x": 0.05
          },
          "xaxis": {
           "automargin": true,
           "gridcolor": "white",
           "linecolor": "white",
           "ticks": "",
           "title": {
            "standoff": 15
           },
           "zerolinecolor": "white",
           "zerolinewidth": 2
          },
          "yaxis": {
           "automargin": true,
           "gridcolor": "white",
           "linecolor": "white",
           "ticks": "",
           "title": {
            "standoff": 15
           },
           "zerolinecolor": "white",
           "zerolinewidth": 2
          }
         }
        },
        "title": {
         "text": "Quarterly Cash Flow Trends for AAPL (CIK: 0000320193) - 10-Q Filings"
        },
        "xaxis": {
         "anchor": "y",
         "domain": [
          0,
          1
         ],
         "title": {
          "text": "Period End Date"
         }
        },
        "yaxis": {
         "anchor": "x",
         "domain": [
          0,
          1
         ],
         "title": {
          "text": "Amount (USD)"
         }
        }
       }
      }
     },
     "metadata": {},
     "output_type": "display_data"
    },
    {
     "name": "stdout",
     "output_type": "stream",
     "text": [
      "Database connection closed.\n"
     ]
    }
   ],
   "source": [
    "# cash_flow_analysis.ipynb\n",
    "\n",
    "import pandas as pd\n",
    "import plotly.express as px # Using Plotly for interactive charts\n",
    "import logging\n",
    "from pathlib import Path\n",
    "\n",
    "# --- Import functions from your .py file ---\n",
    "import edgar_analysis_functions as edgar_funcs\n",
    "\n",
    "# --- Configuration ---\n",
    "DB_FILE = Path(\"/Users/dougstrouth/Documents/datasets/edgar/edgar_metadata.duckdb\") # <= MAKE SURE THIS PATH IS CORRECT\n",
    "TARGET_IDENTIFIER = \"AAPL\" # <= CHANGE TO DESIRED COMPANY TICKER (or CIK if using identifier_type='cik')\n",
    "IDENTIFIER_TYPE = 'ticker' # 'ticker' or 'cik' or 'name'\n",
    "\n",
    "# Define the core cash flow tags to analyze\n",
    "CASH_FLOW_TAGS = [\n",
    "    'NetCashProvidedByUsedInOperatingActivities',\n",
    "    'NetCashProvidedByUsedInInvestingActivities',\n",
    "    'NetCashProvidedByUsedInFinancingActivities',\n",
    "    'CashAndCashEquivalentsPeriodIncreaseDecrease' # Or a more specific net change tag if needed\n",
    "]\n",
    "\n",
    "# --- Setup Logging ---\n",
    "logging.basicConfig(level=logging.INFO, format='%(asctime)s - %(levelname)s - [%(funcName)s] %(message)s')\n",
    "\n",
    "# --- 1. Connect to Database ---\n",
    "db_conn = edgar_funcs.connect_db(DB_FILE)\n",
    "\n",
    "if db_conn:\n",
    "    try:\n",
    "        # --- 2. Get CIK ---\n",
    "        cik = None\n",
    "        if IDENTIFIER_TYPE.lower() == 'cik':\n",
    "            cik = TARGET_IDENTIFIER.zfill(10) # Ensure CIK is 10 digits padded with zeros\n",
    "        else:\n",
    "            cik = edgar_funcs.get_company_cik(db_conn, TARGET_IDENTIFIER, identifier_type=IDENTIFIER_TYPE)\n",
    "\n",
    "        if not cik:\n",
    "             raise ValueError(f\"Could not find CIK for {TARGET_IDENTIFIER}. Exiting.\")\n",
    "\n",
    "        # --- 3. Retrieve Cash Flow Data ---\n",
    "        cf_data_raw = edgar_funcs.get_cash_flow_data(db_conn, cik, CASH_FLOW_TAGS)\n",
    "\n",
    "        if cf_data_raw.empty:\n",
    "            print(f\"No cash flow data found for CIK {cik} with the specified tags/forms.\")\n",
    "        else:\n",
    "            print(f\"Raw Data Sample (first 5 rows):\\n{cf_data_raw.head().to_markdown(index=False)}\\n\") # Display sample in Markdown\n",
    "\n",
    "            # --- 4. Data Cleaning & Preparation ---\n",
    "            # Handle potential duplicates: Keep the latest filing for the same tag/period_end_date\n",
    "            cf_data = cf_data_raw.sort_values(by=['period_end_date', 'filed_date'], ascending=[True, True])\n",
    "            # Keep the last record within each group (latest filed_date for a period_end_date/tag_name)\n",
    "            cf_data = cf_data.drop_duplicates(subset=['period_end_date', 'tag_name'], keep='last')\n",
    "\n",
    "\n",
    "            print(f\"Cleaned Data Sample (first 5 rows):\\n{cf_data.head().to_markdown(index=False)}\\n\")\n",
    "\n",
    "            # --- 5. Analysis & Visualization ---\n",
    "\n",
    "            # Separate Annual (10-K) and Quarterly (10-Q) data\n",
    "            cf_data_annual = cf_data[cf_data['form'] == '10-K'].copy()\n",
    "            cf_data_quarterly = cf_data[cf_data['form'] == '10-Q'].copy()\n",
    "\n",
    "            print(f\"Found {len(cf_data_annual)} annual records and {len(cf_data_quarterly)} quarterly records.\")\n",
    "\n",
    "            # Plot Annual Trends\n",
    "            if not cf_data_annual.empty:\n",
    "                fig_annual = px.line(\n",
    "                    cf_data_annual,\n",
    "                    x='period_end_date',\n",
    "                    y='value_numeric',\n",
    "                    color='tag_name',  # Different line color for each cash flow category\n",
    "                    title=f'Annual Cash Flow Trends for {TARGET_IDENTIFIER} (CIK: {cik}) - 10-K Filings',\n",
    "                    labels={'period_end_date': 'Period End Date', 'value_numeric': 'Amount (USD)', 'tag_name': 'Cash Flow Category'},\n",
    "                    markers=True # Add markers to data points\n",
    "                )\n",
    "                fig_annual.update_layout(hovermode=\"x unified\")\n",
    "                fig_annual.show()\n",
    "            else:\n",
    "                print(\"No annual (10-K) data found to plot.\")\n",
    "\n",
    "            # Plot Quarterly Trends\n",
    "            if not cf_data_quarterly.empty:\n",
    "                 fig_quarterly = px.line(\n",
    "                    cf_data_quarterly,\n",
    "                    x='period_end_date',\n",
    "                    y='value_numeric',\n",
    "                    color='tag_name',\n",
    "                    title=f'Quarterly Cash Flow Trends for {TARGET_IDENTIFIER} (CIK: {cik}) - 10-Q Filings',\n",
    "                    labels={'period_end_date': 'Period End Date', 'value_numeric': 'Amount (USD)', 'tag_name': 'Cash Flow Category'},\n",
    "                    markers=True\n",
    "                )\n",
    "                 fig_quarterly.update_layout(hovermode=\"x unified\")\n",
    "                 fig_quarterly.show()\n",
    "            else:\n",
    "                 print(\"No quarterly (10-Q) data found to plot.\")\n",
    "\n",
    "            # --- Further Analysis Ideas ---\n",
    "            # - Calculate quarterly changes\n",
    "            # - Pivot data for easier comparison (cf_data.pivot_table(...))\n",
    "            # - Compare specific periods (e.g., latest Q vs same Q last year)\n",
    "\n",
    "    except ValueError as ve:\n",
    "         print(f\"Configuration Error: {ve}\")\n",
    "    except Exception as e:\n",
    "        print(f\"An error occurred during analysis: {e}\")\n",
    "        logging.error(\"Analysis error:\", exc_info=True)\n",
    "    finally:\n",
    "        if db_conn:\n",
    "            db_conn.close()\n",
    "            print(\"Database connection closed.\")\n",
    "else:\n",
    "    print(\"Could not establish database connection. Please check DB_FILE path and database integrity.\")"
   ]
  }
 ],
 "metadata": {
  "kernelspec": {
   "display_name": ".venv",
   "language": "python",
   "name": "python3"
  },
  "language_info": {
   "codemirror_mode": {
    "name": "ipython",
    "version": 3
   },
   "file_extension": ".py",
   "mimetype": "text/x-python",
   "name": "python",
   "nbconvert_exporter": "python",
   "pygments_lexer": "ipython3",
   "version": "3.11.11"
  }
 },
 "nbformat": 4,
 "nbformat_minor": 2
}
